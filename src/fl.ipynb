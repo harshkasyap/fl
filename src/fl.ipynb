{
 "cells": [
  {
   "cell_type": "code",
   "execution_count": 1,
   "id": "4a189859",
   "metadata": {},
   "outputs": [
    {
     "name": "stderr",
     "output_type": "stream",
     "text": [
      "/Users/hkasyap/anaconda3/envs/tenseal/lib/python3.10/site-packages/tqdm/auto.py:21: TqdmWarning: IProgress not found. Please update jupyter and ipywidgets. See https://ipywidgets.readthedocs.io/en/stable/user_install.html\n",
      "  from .autonotebook import tqdm as notebook_tqdm\n"
     ]
    }
   ],
   "source": [
    "%load_ext autoreload\n",
    "%autoreload 2\n",
    "\n",
    "import asyncio, nest_asyncio\n",
    "nest_asyncio.apply()\n",
    "\n",
    "import copy, os, socket, sys, time\n",
    "from functools import partial\n",
    "from multiprocessing import Pool, Process\n",
    "from pathlib import Path\n",
    "from tqdm import tqdm\n",
    "\n",
    "import torch\n",
    "from torch import optim\n",
    "from torch.utils.tensorboard import SummaryWriter\n",
    "\n",
    "sys.path.insert(0, os.path.abspath(os.path.join(os.getcwd(), \"../\")))\n",
    "from libs import agg, data, fl, log, nn, plot, poison, resnet, sim, wandb\n",
    "from cfgs.fedargs import *"
   ]
  },
  {
   "cell_type": "code",
   "execution_count": 2,
   "id": "3e7e0cae",
   "metadata": {},
   "outputs": [
    {
     "name": "stderr",
     "output_type": "stream",
     "text": [
      "2024-11-24 10:10:31,294 - Failed to detect the name of this notebook, you can set it manually with the WANDB_NOTEBOOK_NAME environment variable to enable code saving. [MainProcess : MainThread (ERROR)]\n",
      "\u001b[34m\u001b[1mwandb\u001b[0m: Currently logged in as: \u001b[33mkasyah\u001b[0m. Use \u001b[1m`wandb login --relogin`\u001b[0m to force relogin\n"
     ]
    },
    {
     "data": {
      "text/html": [
       "wandb version 0.18.7 is available!  To upgrade, please run:\n",
       " $ pip install wandb --upgrade"
      ],
      "text/plain": [
       "<IPython.core.display.HTML object>"
      ]
     },
     "metadata": {},
     "output_type": "display_data"
    },
    {
     "data": {
      "text/html": [
       "Tracking run with wandb version 0.17.4"
      ],
      "text/plain": [
       "<IPython.core.display.HTML object>"
      ]
     },
     "metadata": {},
     "output_type": "display_data"
    },
    {
     "data": {
      "text/html": [
       "Run data is saved locally in <code>/Users/hkasyap/Desktop/ATI/fl/libs/../out/wandb/run-20241124_101033-0gi2bama</code>"
      ],
      "text/plain": [
       "<IPython.core.display.HTML object>"
      ]
     },
     "metadata": {},
     "output_type": "display_data"
    },
    {
     "data": {
      "text/html": [
       "Syncing run <strong><a href='https://wandb.ai/kasyah/fl-edgeai/runs/0gi2bama' target=\"_blank\">fedavg-cnn-mnist-na</a></strong> to <a href='https://wandb.ai/kasyah/fl-edgeai' target=\"_blank\">Weights & Biases</a> (<a href='https://wandb.me/run' target=\"_blank\">docs</a>)<br/>"
      ],
      "text/plain": [
       "<IPython.core.display.HTML object>"
      ]
     },
     "metadata": {},
     "output_type": "display_data"
    },
    {
     "data": {
      "text/html": [
       " View project at <a href='https://wandb.ai/kasyah/fl-edgeai' target=\"_blank\">https://wandb.ai/kasyah/fl-edgeai</a>"
      ],
      "text/plain": [
       "<IPython.core.display.HTML object>"
      ]
     },
     "metadata": {},
     "output_type": "display_data"
    },
    {
     "data": {
      "text/html": [
       " View run at <a href='https://wandb.ai/kasyah/fl-edgeai/runs/0gi2bama' target=\"_blank\">https://wandb.ai/kasyah/fl-edgeai/runs/0gi2bama</a>"
      ],
      "text/plain": [
       "<IPython.core.display.HTML object>"
      ]
     },
     "metadata": {},
     "output_type": "display_data"
    }
   ],
   "source": [
    "project = 'fl-edgeai'\n",
    "name = 'fedavg-cnn-mnist-na'\n",
    "\n",
    "#Define Custom CFGs\n",
    "torch.manual_seed(1)\n",
    "\n",
    "fedargs.enc = True\n",
    "fedargs.num_clients = 10\n",
    "fedargs.epochs = 11\n",
    "\n",
    "# Save Logs To File (info | debug | warning | error | critical) [optional]\n",
    "log.init(\"info\")\n",
    "wb = wandb.init(name, project)"
   ]
  },
  {
   "cell_type": "code",
   "execution_count": 3,
   "id": "2bb399c2",
   "metadata": {},
   "outputs": [],
   "source": [
    "# Device settings\n",
    "use_cuda = fedargs.cuda and torch.cuda.is_available()\n",
    "torch.manual_seed(fedargs.seed)\n",
    "device = torch.device(\"cuda\" if use_cuda else \"cpu\")\n",
    "kwargs = {\"num_workers\": 1, \"pin_memory\": True} if use_cuda else {}"
   ]
  },
  {
   "cell_type": "code",
   "execution_count": 4,
   "id": "76542fcf",
   "metadata": {},
   "outputs": [],
   "source": [
    "# Prepare clients\n",
    "host = socket.gethostname()\n",
    "clients = [host + \"(\" + str(client + 1) + \")\" for client in range(fedargs.num_clients)]"
   ]
  },
  {
   "cell_type": "code",
   "execution_count": 5,
   "id": "402306c0",
   "metadata": {},
   "outputs": [],
   "source": [
    "# Initialize Global and Client models\n",
    "global_model = copy.deepcopy(fedargs.model)\n",
    "# Load Data to clients\n",
    "train_data, test_data = data.load_dataset(fedargs.dataset)"
   ]
  },
  {
   "cell_type": "code",
   "execution_count": 6,
   "id": "80508740",
   "metadata": {},
   "outputs": [],
   "source": [
    "clients_data = data.split_data(train_data, clients)"
   ]
  },
  {
   "cell_type": "code",
   "execution_count": 7,
   "id": "f21c1481",
   "metadata": {},
   "outputs": [],
   "source": [
    "client_train_loaders, _ = data.load_client_data(clients_data, fedargs.client_batch_size, None, **kwargs)\n",
    "test_loader = torch.utils.data.DataLoader(test_data, batch_size=fedargs.test_batch_size, shuffle=True, **kwargs)\n",
    "\n",
    "client_details = {\n",
    "        client: {\"train_loader\": client_train_loaders[client],\n",
    "                 \"model\": copy.deepcopy(global_model),\n",
    "                 \"model_update\": None}\n",
    "        for client in clients\n",
    "    }"
   ]
  },
  {
   "cell_type": "code",
   "execution_count": 8,
   "id": "af4f472f",
   "metadata": {},
   "outputs": [],
   "source": [
    "def background(f):\n",
    "    def wrapped(*args, **kwargs):\n",
    "        return asyncio.get_event_loop().run_in_executor(None, f, *args, **kwargs)\n",
    "\n",
    "    return wrapped\n",
    "\n",
    "@background\n",
    "def process(client, epoch, model, train_loader, fedargs, device):\n",
    "    # Train\n",
    "    model_update, model, loss = fedargs.train_func(model, train_loader, \n",
    "                                                   fedargs.learning_rate,\n",
    "                                                   fedargs.weight_decay,\n",
    "                                                   fedargs.local_rounds, device)\n",
    "\n",
    "    log.jsondebug(loss, \"Epoch {} of {} : Federated Training loss, Client {}\".format(epoch, fedargs.epochs, client))\n",
    "    log.modeldebug(model_update, \"Epoch {} of {} : Client {} Update\".format(epoch, fedargs.epochs, client))\n",
    "    \n",
    "    return model_update"
   ]
  },
  {
   "cell_type": "code",
   "execution_count": 9,
   "id": "b3f7f3fb",
   "metadata": {
    "scrolled": true
   },
   "outputs": [
    {
     "name": "stderr",
     "output_type": "stream",
     "text": [
      "  0%|                               | 0/11 [00:00<?, ?it/s]2024-11-24 10:10:45,151 - /var/folders/bt/rxysq_fs7ggf93mf5dc5250r0000gr/T/ipykernel_96666/2384706191.py::<module>(l:6) : Federated Training Epoch 0 of 11 [MainProcess : MainThread (INFO)]\n",
      "/Users/hkasyap/anaconda3/envs/tenseal/lib/python3.10/site-packages/torch/nn/functional.py:1331: UserWarning: dropout2d: Received a 2-D input to dropout2d, which is deprecated and will result in an error in a future release. To retain the behavior and silence this warning, please use dropout instead. Note that dropout2d exists to provide channel-wise dropout on inputs with 2 spatial dimensions, a channel dimension, and an optional batch dimension (i.e. 3D or 4D inputs).\n",
      "  warnings.warn(warn_msg)\n",
      "  9%|██                     | 1/11 [00:37<06:14, 37.46s/it]2024-11-24 10:11:22,442 - /var/folders/bt/rxysq_fs7ggf93mf5dc5250r0000gr/T/ipykernel_96666/2384706191.py::<module>(l:6) : Federated Training Epoch 1 of 11 [MainProcess : MainThread (INFO)]\n",
      "2024-11-24 10:11:24,694 - /var/folders/bt/rxysq_fs7ggf93mf5dc5250r0000gr/T/ipykernel_96666/2384706191.py::<module>(l:17) : Global Test Outut after Epoch 1 of 11 {\n",
      "    \"accuracy\": 82.58,\n",
      "    \"correct\": 8258,\n",
      "    \"test_loss\": -0.765355214881897\n",
      "} [MainProcess : MainThread (INFO)]\n",
      " 18%|████▏                  | 2/11 [01:17<05:50, 38.97s/it]2024-11-24 10:12:02,468 - /var/folders/bt/rxysq_fs7ggf93mf5dc5250r0000gr/T/ipykernel_96666/2384706191.py::<module>(l:6) : Federated Training Epoch 2 of 11 [MainProcess : MainThread (INFO)]\n",
      "2024-11-24 10:12:04,565 - /var/folders/bt/rxysq_fs7ggf93mf5dc5250r0000gr/T/ipykernel_96666/2384706191.py::<module>(l:17) : Global Test Outut after Epoch 2 of 11 {\n",
      "    \"accuracy\": 90.25999999999999,\n",
      "    \"correct\": 9026,\n",
      "    \"test_loss\": -0.8827838992118835\n",
      "} [MainProcess : MainThread (INFO)]\n",
      " 27%|██████▎                | 3/11 [01:57<05:15, 39.46s/it]2024-11-24 10:12:42,510 - /var/folders/bt/rxysq_fs7ggf93mf5dc5250r0000gr/T/ipykernel_96666/2384706191.py::<module>(l:6) : Federated Training Epoch 3 of 11 [MainProcess : MainThread (INFO)]\n",
      "2024-11-24 10:12:44,594 - /var/folders/bt/rxysq_fs7ggf93mf5dc5250r0000gr/T/ipykernel_96666/2384706191.py::<module>(l:17) : Global Test Outut after Epoch 3 of 11 {\n",
      "    \"accuracy\": 91.69,\n",
      "    \"correct\": 9169,\n",
      "    \"test_loss\": -0.9052601763725281\n",
      "} [MainProcess : MainThread (INFO)]\n",
      " 36%|████████▎              | 4/11 [02:38<04:40, 40.06s/it]2024-11-24 10:13:23,480 - /var/folders/bt/rxysq_fs7ggf93mf5dc5250r0000gr/T/ipykernel_96666/2384706191.py::<module>(l:6) : Federated Training Epoch 4 of 11 [MainProcess : MainThread (INFO)]\n",
      "2024-11-24 10:13:25,685 - /var/folders/bt/rxysq_fs7ggf93mf5dc5250r0000gr/T/ipykernel_96666/2384706191.py::<module>(l:17) : Global Test Outut after Epoch 4 of 11 {\n",
      "    \"accuracy\": 92.7,\n",
      "    \"correct\": 9270,\n",
      "    \"test_loss\": -0.9189430586814881\n",
      "} [MainProcess : MainThread (INFO)]\n",
      " 45%|██████████▍            | 5/11 [03:25<04:15, 42.66s/it]2024-11-24 10:14:10,773 - /var/folders/bt/rxysq_fs7ggf93mf5dc5250r0000gr/T/ipykernel_96666/2384706191.py::<module>(l:6) : Federated Training Epoch 5 of 11 [MainProcess : MainThread (INFO)]\n",
      "2024-11-24 10:14:13,235 - /var/folders/bt/rxysq_fs7ggf93mf5dc5250r0000gr/T/ipykernel_96666/2384706191.py::<module>(l:17) : Global Test Outut after Epoch 5 of 11 {\n",
      "    \"accuracy\": 93.47,\n",
      "    \"correct\": 9347,\n",
      "    \"test_loss\": -0.9284384716033935\n",
      "} [MainProcess : MainThread (INFO)]\n",
      " 55%|████████████▌          | 6/11 [04:13<03:42, 44.44s/it]2024-11-24 10:14:58,643 - /var/folders/bt/rxysq_fs7ggf93mf5dc5250r0000gr/T/ipykernel_96666/2384706191.py::<module>(l:6) : Federated Training Epoch 6 of 11 [MainProcess : MainThread (INFO)]\n",
      "2024-11-24 10:15:01,116 - /var/folders/bt/rxysq_fs7ggf93mf5dc5250r0000gr/T/ipykernel_96666/2384706191.py::<module>(l:17) : Global Test Outut after Epoch 6 of 11 {\n",
      "    \"accuracy\": 94.24,\n",
      "    \"correct\": 9424,\n",
      "    \"test_loss\": -0.9358955241203308\n",
      "} [MainProcess : MainThread (INFO)]\n",
      " 64%|██████████████▋        | 7/11 [04:56<02:56, 44.03s/it]2024-11-24 10:15:41,841 - /var/folders/bt/rxysq_fs7ggf93mf5dc5250r0000gr/T/ipykernel_96666/2384706191.py::<module>(l:6) : Federated Training Epoch 7 of 11 [MainProcess : MainThread (INFO)]\n",
      "2024-11-24 10:15:43,884 - /var/folders/bt/rxysq_fs7ggf93mf5dc5250r0000gr/T/ipykernel_96666/2384706191.py::<module>(l:17) : Global Test Outut after Epoch 7 of 11 {\n",
      "    \"accuracy\": 94.83,\n",
      "    \"correct\": 9483,\n",
      "    \"test_loss\": -0.9430093453407288\n",
      "} [MainProcess : MainThread (INFO)]\n",
      " 73%|████████████████▋      | 8/11 [05:39<02:10, 43.60s/it]2024-11-24 10:16:24,522 - /var/folders/bt/rxysq_fs7ggf93mf5dc5250r0000gr/T/ipykernel_96666/2384706191.py::<module>(l:6) : Federated Training Epoch 8 of 11 [MainProcess : MainThread (INFO)]\n",
      "2024-11-24 10:16:26,714 - /var/folders/bt/rxysq_fs7ggf93mf5dc5250r0000gr/T/ipykernel_96666/2384706191.py::<module>(l:17) : Global Test Outut after Epoch 8 of 11 {\n",
      "    \"accuracy\": 95.41,\n",
      "    \"correct\": 9541,\n",
      "    \"test_loss\": -0.9483758292198181\n",
      "} [MainProcess : MainThread (INFO)]\n",
      " 82%|██████████████████▊    | 9/11 [06:20<01:25, 42.86s/it]2024-11-24 10:17:05,761 - /var/folders/bt/rxysq_fs7ggf93mf5dc5250r0000gr/T/ipykernel_96666/2384706191.py::<module>(l:6) : Federated Training Epoch 9 of 11 [MainProcess : MainThread (INFO)]\n",
      "2024-11-24 10:17:07,971 - /var/folders/bt/rxysq_fs7ggf93mf5dc5250r0000gr/T/ipykernel_96666/2384706191.py::<module>(l:17) : Global Test Outut after Epoch 9 of 11 {\n",
      "    \"accuracy\": 95.83,\n",
      "    \"correct\": 9583,\n",
      "    \"test_loss\": -0.9533168663024902\n",
      "} [MainProcess : MainThread (INFO)]\n",
      " 91%|████████████████████  | 10/11 [07:01<00:42, 42.11s/it]2024-11-24 10:17:46,171 - /var/folders/bt/rxysq_fs7ggf93mf5dc5250r0000gr/T/ipykernel_96666/2384706191.py::<module>(l:6) : Federated Training Epoch 10 of 11 [MainProcess : MainThread (INFO)]\n",
      "2024-11-24 10:17:48,240 - /var/folders/bt/rxysq_fs7ggf93mf5dc5250r0000gr/T/ipykernel_96666/2384706191.py::<module>(l:17) : Global Test Outut after Epoch 10 of 11 {\n",
      "    \"accuracy\": 96.11,\n",
      "    \"correct\": 9611,\n",
      "    \"test_loss\": -0.9569903545379639\n",
      "} [MainProcess : MainThread (INFO)]\n",
      "100%|██████████████████████| 11/11 [07:41<00:00, 41.93s/it]"
     ]
    },
    {
     "name": "stdout",
     "output_type": "stream",
     "text": [
      "461.2659890651703\n"
     ]
    },
    {
     "name": "stderr",
     "output_type": "stream",
     "text": [
      "\n"
     ]
    }
   ],
   "source": [
    "import time\n",
    "start_time = time.time()\n",
    "    \n",
    "# Federated Training\n",
    "for epoch in tqdm(range(fedargs.epochs)):\n",
    "    log.info(\"Federated Training Epoch {} of {}\".format(epoch, fedargs.epochs))\n",
    "\n",
    "    # Global Model Update\n",
    "    if epoch > 0:     \n",
    "        # Average\n",
    "        global_model = fl.federated_avg(client_model_updates, global_model)\n",
    "        log.modeldebug(global_model, \"Epoch {} of {} : Server Update\".format(epoch, fedargs.epochs))\n",
    "        \n",
    "        # Test, Plot and Log\n",
    "        global_test_output = fedargs.eval_func(global_model, test_loader, device)\n",
    "        wb.log({\"epoch\": epoch, \"time\": time.time(), \"acc\": global_test_output[\"accuracy\"], \"loss\": global_test_output[\"test_loss\"]})\n",
    "        log.jsoninfo(global_test_output, \"Global Test Outut after Epoch {} of {}\".format(epoch, fedargs.epochs))\n",
    "        \n",
    "        # Update client models\n",
    "        for client in clients:\n",
    "            client_details[client]['model'] = copy.deepcopy(global_model)\n",
    "\n",
    "    # Clients\n",
    "    tasks = [process(client, epoch, client_details[client]['model'],\n",
    "                     client_details[client]['train_loader'],\n",
    "                     fedargs, device) for client in clients]\n",
    "    try:\n",
    "        updates = fedargs.loop.run_until_complete(asyncio.gather(*tasks))\n",
    "    except KeyboardInterrupt as e:\n",
    "        log.error(\"Caught keyboard interrupt. Canceling tasks...\")\n",
    "        tasks.cancel()\n",
    "        fedargs.loop.run_forever()\n",
    "        tasks.exception()\n",
    "\n",
    "    for client, update in zip(clients, updates):\n",
    "        client_details[client]['model_update'] = update\n",
    "    client_model_updates = {client: details[\"model_update\"] for client, details in client_details.items()}\n",
    "\n",
    "print(time.time() - start_time)"
   ]
  },
  {
   "cell_type": "markdown",
   "id": "37b2d6a9",
   "metadata": {
    "deletable": false,
    "editable": false
   },
   "source": [
    "<h1> End </h1>"
   ]
  }
 ],
 "metadata": {
  "kernelspec": {
   "display_name": "Python [conda env:tenseal]",
   "language": "python",
   "name": "conda-env-tenseal-py"
  },
  "language_info": {
   "codemirror_mode": {
    "name": "ipython",
    "version": 3
   },
   "file_extension": ".py",
   "mimetype": "text/x-python",
   "name": "python",
   "nbconvert_exporter": "python",
   "pygments_lexer": "ipython3",
   "version": "3.9.5"
  }
 },
 "nbformat": 4,
 "nbformat_minor": 5
}
