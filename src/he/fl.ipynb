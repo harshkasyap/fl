{
 "cells": [
  {
   "cell_type": "code",
   "execution_count": 9,
   "id": "4a189859",
   "metadata": {},
   "outputs": [
    {
     "name": "stdout",
     "output_type": "stream",
     "text": [
      "The autoreload extension is already loaded. To reload it, use:\n",
      "  %reload_ext autoreload\n"
     ]
    }
   ],
   "source": [
    "%load_ext autoreload\n",
    "%autoreload 2\n",
    "\n",
    "import asyncio, nest_asyncio\n",
    "nest_asyncio.apply()\n",
    "\n",
    "import copy, os, socket, sys, time\n",
    "from functools import partial\n",
    "from multiprocessing import Pool, Process\n",
    "from pathlib import Path\n",
    "from tqdm import tqdm\n",
    "\n",
    "import torch\n",
    "from torch import optim\n",
    "from torch.utils.tensorboard import SummaryWriter\n",
    "\n",
    "sys.path.insert(0, os.path.abspath(os.path.join(os.getcwd(), \"../../\")))\n",
    "from libs import agg, data, fl, log, nn, plot, poison, resnet, sim, wandb, he\n",
    "from cfgs.fedargs import *"
   ]
  },
  {
   "cell_type": "code",
   "execution_count": 10,
   "id": "3e7e0cae",
   "metadata": {},
   "outputs": [
    {
     "data": {
      "text/html": [
       "Finishing last run (ID:1ndrhg02) before initializing another..."
      ],
      "text/plain": [
       "<IPython.core.display.HTML object>"
      ]
     },
     "metadata": {},
     "output_type": "display_data"
    },
    {
     "data": {
      "text/html": [
       "<br/>Waiting for W&B process to finish, PID 180247... <strong style=\"color:green\">(success).</strong>"
      ],
      "text/plain": [
       "<IPython.core.display.HTML object>"
      ]
     },
     "metadata": {},
     "output_type": "display_data"
    },
    {
     "data": {
      "application/vnd.jupyter.widget-view+json": {
       "model_id": "",
       "version_major": 2,
       "version_minor": 0
      },
      "text/plain": [
       "VBox(children=(Label(value=' 0.00MB of 0.00MB uploaded (0.00MB deduped)\\r'), FloatProgress(value=1.0, max=1.0)…"
      ]
     },
     "metadata": {},
     "output_type": "display_data"
    },
    {
     "data": {
      "text/html": [
       "<style>\n",
       "    table.wandb td:nth-child(1) { padding: 0 10px; text-align: right }\n",
       "    .wandb-row { display: flex; flex-direction: row; flex-wrap: wrap; width: 100% }\n",
       "    .wandb-col { display: flex; flex-direction: column; flex-basis: 100%; flex: 1; padding: 10px; }\n",
       "    </style>\n",
       "<div class=\"wandb-row\"><div class=\"wandb-col\">\n",
       "</div><div class=\"wandb-col\">\n",
       "</div></div>\n",
       "Synced 6 W&B file(s), 0 media file(s), 0 artifact file(s) and 0 other file(s)\n",
       "<br/>Synced <strong style=\"color:#cdcd00\">fl-he</strong>: <a href=\"https://wandb.ai/kasyah/fl/runs/1ndrhg02\" target=\"_blank\">https://wandb.ai/kasyah/fl/runs/1ndrhg02</a><br/>\n",
       "Find logs at: <code>/home/harsh_1921cs01/hub/fl/libs/../out/wandb/run-20240905_190941-1ndrhg02/logs</code><br/>\n"
      ],
      "text/plain": [
       "<IPython.core.display.HTML object>"
      ]
     },
     "metadata": {},
     "output_type": "display_data"
    },
    {
     "data": {
      "text/html": [
       "Successfully finished last run (ID:1ndrhg02). Initializing new run:<br/>"
      ],
      "text/plain": [
       "<IPython.core.display.HTML object>"
      ]
     },
     "metadata": {},
     "output_type": "display_data"
    },
    {
     "name": "stderr",
     "output_type": "stream",
     "text": [
      "\u001b[34m\u001b[1mwandb\u001b[0m: wandb version 0.17.8 is available!  To upgrade, please run:\n",
      "\u001b[34m\u001b[1mwandb\u001b[0m:  $ pip install wandb --upgrade\n"
     ]
    },
    {
     "data": {
      "text/html": [
       "\n",
       "                    Syncing run <strong><a href=\"https://wandb.ai/kasyah/fl/runs/1qlkyx14\" target=\"_blank\">fl-he</a></strong> to <a href=\"https://wandb.ai/kasyah/fl\" target=\"_blank\">Weights & Biases</a> (<a href=\"https://docs.wandb.com/integrations/jupyter.html\" target=\"_blank\">docs</a>).<br/>\n",
       "\n",
       "                "
      ],
      "text/plain": [
       "<IPython.core.display.HTML object>"
      ]
     },
     "metadata": {},
     "output_type": "display_data"
    }
   ],
   "source": [
    "project = 'fl'\n",
    "name = 'fl-he'\n",
    "\n",
    "#Define seed\n",
    "torch.manual_seed(1)\n",
    "\n",
    "#Define Custom CFGs\n",
    "fedargs.enc = True\n",
    "\n",
    "# Save Logs To File (info | debug | warning | error | critical) [optional]\n",
    "log.init(\"info\")\n",
    "wb = wandb.init(name, project)"
   ]
  },
  {
   "cell_type": "code",
   "execution_count": 11,
   "id": "2bb399c2",
   "metadata": {},
   "outputs": [],
   "source": [
    "# Device settings\n",
    "use_cuda = fedargs.cuda and torch.cuda.is_available()\n",
    "torch.manual_seed(fedargs.seed)\n",
    "device = torch.device(\"cuda\" if use_cuda else \"cpu\")\n",
    "kwargs = {\"num_workers\": 1, \"pin_memory\": True} if use_cuda else {}"
   ]
  },
  {
   "cell_type": "code",
   "execution_count": 12,
   "id": "76542fcf",
   "metadata": {},
   "outputs": [],
   "source": [
    "# Prepare clients\n",
    "host = socket.gethostname()\n",
    "clients = [host + \"(\" + str(client + 1) + \")\" for client in range(fedargs.num_clients)]"
   ]
  },
  {
   "cell_type": "code",
   "execution_count": 13,
   "id": "402306c0",
   "metadata": {},
   "outputs": [],
   "source": [
    "# Initialize Global and Client models\n",
    "global_model = copy.deepcopy(fedargs.model)\n",
    "# Load Data to clients\n",
    "train_data, test_data = data.load_dataset(fedargs.dataset)"
   ]
  },
  {
   "cell_type": "code",
   "execution_count": 14,
   "id": "80508740",
   "metadata": {},
   "outputs": [],
   "source": [
    "clients_data = data.split_data(train_data, clients)"
   ]
  },
  {
   "cell_type": "code",
   "execution_count": 15,
   "id": "f21c1481",
   "metadata": {},
   "outputs": [],
   "source": [
    "client_train_loaders, _ = data.load_client_data(clients_data, fedargs.client_batch_size, None, **kwargs)\n",
    "test_loader = torch.utils.data.DataLoader(test_data, batch_size=fedargs.test_batch_size, shuffle=True, **kwargs)\n",
    "\n",
    "client_details = {\n",
    "        client: {\"train_loader\": client_train_loaders[client],\n",
    "                 \"model\": copy.deepcopy(global_model),\n",
    "                 \"model_update\": None}\n",
    "        for client in clients\n",
    "    }"
   ]
  },
  {
   "cell_type": "code",
   "execution_count": 16,
   "id": "af4f472f",
   "metadata": {},
   "outputs": [],
   "source": [
    "def background(f):\n",
    "    def wrapped(*args, **kwargs):\n",
    "        return asyncio.get_event_loop().run_in_executor(None, f, *args, **kwargs)\n",
    "\n",
    "    return wrapped\n",
    "\n",
    "@background\n",
    "def process(client, epoch, model, train_loader, fedargs, device):\n",
    "    # Train\n",
    "    model_update, model, loss = fedargs.train_func(model, train_loader, \n",
    "                                                   fedargs.learning_rate,\n",
    "                                                   fedargs.weight_decay,\n",
    "                                                   fedargs.local_rounds, device)\n",
    "\n",
    "    log.jsondebug(loss, \"Epoch {} of {} : Federated Training loss, Client {}\".format(epoch, fedargs.epochs, client))\n",
    "    log.modeldebug(model_update, \"Epoch {} of {} : Client {} Update\".format(epoch, fedargs.epochs, client))\n",
    "    \n",
    "    return model_update"
   ]
  },
  {
   "cell_type": "code",
   "execution_count": null,
   "id": "b3f7f3fb",
   "metadata": {
    "scrolled": true
   },
   "outputs": [
    {
     "name": "stderr",
     "output_type": "stream",
     "text": [
      "  0%|          | 0/51 [00:00<?, ?it/s]2024-09-05 19:11:26,460 - <ipython-input-17-95d18e29c38d>::<module>(l:6) : Federated Training Epoch 0 of 51 [MainProcess : MainThread (INFO)]\n",
      "  2%|▏         | 1/51 [00:39<33:10, 39.80s/it]2024-09-05 19:12:05,985 - <ipython-input-17-95d18e29c38d>::<module>(l:6) : Federated Training Epoch 1 of 51 [MainProcess : MainThread (INFO)]\n",
      "2024-09-05 19:12:09,524 - <ipython-input-17-95d18e29c38d>::<module>(l:17) : Global Test Outut after Epoch 1 of 51 {\n",
      "    \"accuracy\": 59.809999999999995,\n",
      "    \"correct\": 5981,\n",
      "    \"test_loss\": 0.016576014828681946\n",
      "} [MainProcess : MainThread (INFO)]\n",
      "  4%|▍         | 2/51 [01:22<33:53, 41.49s/it]2024-09-05 19:12:48,667 - <ipython-input-17-95d18e29c38d>::<module>(l:6) : Federated Training Epoch 2 of 51 [MainProcess : MainThread (INFO)]\n",
      "2024-09-05 19:12:52,275 - <ipython-input-17-95d18e29c38d>::<module>(l:17) : Global Test Outut after Epoch 2 of 51 {\n",
      "    \"accuracy\": 77.29,\n",
      "    \"correct\": 7729,\n",
      "    \"test_loss\": 0.014071006071567535\n",
      "} [MainProcess : MainThread (INFO)]\n",
      "  6%|▌         | 3/51 [02:05<33:40, 42.10s/it]2024-09-05 19:13:31,476 - <ipython-input-17-95d18e29c38d>::<module>(l:6) : Federated Training Epoch 3 of 51 [MainProcess : MainThread (INFO)]\n",
      "2024-09-05 19:13:34,876 - <ipython-input-17-95d18e29c38d>::<module>(l:17) : Global Test Outut after Epoch 3 of 51 {\n",
      "    \"accuracy\": 83.61,\n",
      "    \"correct\": 8361,\n",
      "    \"test_loss\": 0.013233998227119445\n",
      "} [MainProcess : MainThread (INFO)]\n",
      "  8%|▊         | 4/51 [02:48<33:18, 42.51s/it]2024-09-05 19:14:14,632 - <ipython-input-17-95d18e29c38d>::<module>(l:6) : Federated Training Epoch 4 of 51 [MainProcess : MainThread (INFO)]\n",
      "2024-09-05 19:14:18,331 - <ipython-input-17-95d18e29c38d>::<module>(l:17) : Global Test Outut after Epoch 4 of 51 {\n",
      "    \"accuracy\": 85.99,\n",
      "    \"correct\": 8599,\n",
      "    \"test_loss\": 0.012876489698886872\n",
      "} [MainProcess : MainThread (INFO)]\n",
      " 10%|▉         | 5/51 [03:31<32:52, 42.87s/it]2024-09-05 19:14:58,131 - <ipython-input-17-95d18e29c38d>::<module>(l:6) : Federated Training Epoch 5 of 51 [MainProcess : MainThread (INFO)]\n",
      "2024-09-05 19:15:01,703 - <ipython-input-17-95d18e29c38d>::<module>(l:17) : Global Test Outut after Epoch 5 of 51 {\n",
      "    \"accuracy\": 88.21,\n",
      "    \"correct\": 8821,\n",
      "    \"test_loss\": 0.012662422370910644\n",
      "} [MainProcess : MainThread (INFO)]\n",
      " 12%|█▏        | 6/51 [04:14<32:07, 42.83s/it]2024-09-05 19:15:40,883 - <ipython-input-17-95d18e29c38d>::<module>(l:6) : Federated Training Epoch 6 of 51 [MainProcess : MainThread (INFO)]\n",
      "2024-09-05 19:15:45,296 - <ipython-input-17-95d18e29c38d>::<module>(l:17) : Global Test Outut after Epoch 6 of 51 {\n",
      "    \"accuracy\": 89.31,\n",
      "    \"correct\": 8931,\n",
      "    \"test_loss\": 0.012529501378536225\n",
      "} [MainProcess : MainThread (INFO)]\n",
      " 14%|█▎        | 7/51 [04:59<31:53, 43.49s/it]2024-09-05 19:16:25,740 - <ipython-input-17-95d18e29c38d>::<module>(l:6) : Federated Training Epoch 7 of 51 [MainProcess : MainThread (INFO)]\n",
      "2024-09-05 19:16:29,402 - <ipython-input-17-95d18e29c38d>::<module>(l:17) : Global Test Outut after Epoch 7 of 51 {\n",
      "    \"accuracy\": 90.01,\n",
      "    \"correct\": 9001,\n",
      "    \"test_loss\": 0.012460649573802949\n",
      "} [MainProcess : MainThread (INFO)]\n",
      " 16%|█▌        | 8/51 [05:43<31:18, 43.70s/it]2024-09-05 19:17:09,872 - <ipython-input-17-95d18e29c38d>::<module>(l:6) : Federated Training Epoch 8 of 51 [MainProcess : MainThread (INFO)]\n",
      "2024-09-05 19:17:13,758 - <ipython-input-17-95d18e29c38d>::<module>(l:17) : Global Test Outut after Epoch 8 of 51 {\n",
      "    \"accuracy\": 90.36999999999999,\n",
      "    \"correct\": 9037,\n",
      "    \"test_loss\": 0.012388861536979675\n",
      "} [MainProcess : MainThread (INFO)]\n",
      " 18%|█▊        | 9/51 [06:27<30:31, 43.61s/it]2024-09-05 19:17:53,298 - <ipython-input-17-95d18e29c38d>::<module>(l:6) : Federated Training Epoch 9 of 51 [MainProcess : MainThread (INFO)]\n",
      "2024-09-05 19:17:56,983 - <ipython-input-17-95d18e29c38d>::<module>(l:17) : Global Test Outut after Epoch 9 of 51 {\n",
      "    \"accuracy\": 90.89,\n",
      "    \"correct\": 9089,\n",
      "    \"test_loss\": 0.012350616014003753\n",
      "} [MainProcess : MainThread (INFO)]\n",
      " 20%|█▉        | 10/51 [07:11<29:53, 43.73s/it]2024-09-05 19:18:37,309 - <ipython-input-17-95d18e29c38d>::<module>(l:6) : Federated Training Epoch 10 of 51 [MainProcess : MainThread (INFO)]\n",
      "2024-09-05 19:18:41,178 - <ipython-input-17-95d18e29c38d>::<module>(l:17) : Global Test Outut after Epoch 10 of 51 {\n",
      "    \"accuracy\": 91.2,\n",
      "    \"correct\": 9120,\n",
      "    \"test_loss\": 0.01232719030380249\n",
      "} [MainProcess : MainThread (INFO)]\n",
      " 22%|██▏       | 11/51 [07:54<29:04, 43.62s/it]2024-09-05 19:19:20,683 - <ipython-input-17-95d18e29c38d>::<module>(l:6) : Federated Training Epoch 11 of 51 [MainProcess : MainThread (INFO)]\n",
      "2024-09-05 19:19:24,389 - <ipython-input-17-95d18e29c38d>::<module>(l:17) : Global Test Outut after Epoch 11 of 51 {\n",
      "    \"accuracy\": 91.44,\n",
      "    \"correct\": 9144,\n",
      "    \"test_loss\": 0.012287768113613129\n",
      "} [MainProcess : MainThread (INFO)]\n",
      " 24%|██▎       | 12/51 [08:38<28:23, 43.69s/it]2024-09-05 19:20:04,518 - <ipython-input-17-95d18e29c38d>::<module>(l:6) : Federated Training Epoch 12 of 51 [MainProcess : MainThread (INFO)]\n",
      "2024-09-05 19:20:08,069 - <ipython-input-17-95d18e29c38d>::<module>(l:17) : Global Test Outut after Epoch 12 of 51 {\n",
      "    \"accuracy\": 91.67,\n",
      "    \"correct\": 9167,\n",
      "    \"test_loss\": 0.012253320348262787\n",
      "} [MainProcess : MainThread (INFO)]\n",
      " 25%|██▌       | 13/51 [09:21<27:34, 43.55s/it]2024-09-05 19:20:47,748 - <ipython-input-17-95d18e29c38d>::<module>(l:6) : Federated Training Epoch 13 of 51 [MainProcess : MainThread (INFO)]\n",
      "2024-09-05 19:20:51,239 - <ipython-input-17-95d18e29c38d>::<module>(l:17) : Global Test Outut after Epoch 13 of 51 {\n",
      "    \"accuracy\": 91.86,\n",
      "    \"correct\": 9186,\n",
      "    \"test_loss\": 0.012233797860145569\n",
      "} [MainProcess : MainThread (INFO)]\n",
      " 27%|██▋       | 14/51 [10:04<26:46, 43.42s/it]2024-09-05 19:21:30,862 - <ipython-input-17-95d18e29c38d>::<module>(l:6) : Federated Training Epoch 14 of 51 [MainProcess : MainThread (INFO)]\n",
      "2024-09-05 19:21:34,336 - <ipython-input-17-95d18e29c38d>::<module>(l:17) : Global Test Outut after Epoch 14 of 51 {\n",
      "    \"accuracy\": 92.17999999999999,\n",
      "    \"correct\": 9218,\n",
      "    \"test_loss\": 0.012213772773742675\n",
      "} [MainProcess : MainThread (INFO)]\n",
      " 29%|██▉       | 15/51 [10:47<25:58, 43.29s/it]2024-09-05 19:22:13,856 - <ipython-input-17-95d18e29c38d>::<module>(l:6) : Federated Training Epoch 15 of 51 [MainProcess : MainThread (INFO)]\n",
      "2024-09-05 19:22:17,288 - <ipython-input-17-95d18e29c38d>::<module>(l:17) : Global Test Outut after Epoch 15 of 51 {\n",
      "    \"accuracy\": 92.32000000000001,\n",
      "    \"correct\": 9232,\n",
      "    \"test_loss\": 0.01219868586063385\n",
      "} [MainProcess : MainThread (INFO)]\n",
      " 31%|███▏      | 16/51 [11:30<25:09, 43.13s/it]2024-09-05 19:22:56,615 - <ipython-input-17-95d18e29c38d>::<module>(l:6) : Federated Training Epoch 16 of 51 [MainProcess : MainThread (INFO)]\n",
      "2024-09-05 19:23:00,081 - <ipython-input-17-95d18e29c38d>::<module>(l:17) : Global Test Outut after Epoch 16 of 51 {\n",
      "    \"accuracy\": 92.58,\n",
      "    \"correct\": 9258,\n",
      "    \"test_loss\": 0.01218209639787674\n",
      "} [MainProcess : MainThread (INFO)]\n",
      " 33%|███▎      | 17/51 [12:13<24:21, 42.97s/it]2024-09-05 19:23:39,223 - <ipython-input-17-95d18e29c38d>::<module>(l:6) : Federated Training Epoch 17 of 51 [MainProcess : MainThread (INFO)]\n",
      "2024-09-05 19:23:42,718 - <ipython-input-17-95d18e29c38d>::<module>(l:17) : Global Test Outut after Epoch 17 of 51 {\n",
      "    \"accuracy\": 92.61,\n",
      "    \"correct\": 9261,\n",
      "    \"test_loss\": 0.012176799416542053\n",
      "} [MainProcess : MainThread (INFO)]\n",
      " 35%|███▌      | 18/51 [12:56<23:44, 43.18s/it]2024-09-05 19:24:22,884 - <ipython-input-17-95d18e29c38d>::<module>(l:6) : Federated Training Epoch 18 of 51 [MainProcess : MainThread (INFO)]\n",
      "2024-09-05 19:24:26,419 - <ipython-input-17-95d18e29c38d>::<module>(l:17) : Global Test Outut after Epoch 18 of 51 {\n",
      "    \"accuracy\": 92.71000000000001,\n",
      "    \"correct\": 9271,\n",
      "    \"test_loss\": 0.01214708800315857\n",
      "} [MainProcess : MainThread (INFO)]\n",
      " 37%|███▋      | 19/51 [13:39<22:59, 43.11s/it]2024-09-05 19:25:05,833 - <ipython-input-17-95d18e29c38d>::<module>(l:6) : Federated Training Epoch 19 of 51 [MainProcess : MainThread (INFO)]\n",
      "2024-09-05 19:25:09,291 - <ipython-input-17-95d18e29c38d>::<module>(l:17) : Global Test Outut after Epoch 19 of 51 {\n",
      "    \"accuracy\": 92.9,\n",
      "    \"correct\": 9290,\n",
      "    \"test_loss\": 0.012142966282367705\n",
      "} [MainProcess : MainThread (INFO)]\n"
     ]
    },
    {
     "name": "stderr",
     "output_type": "stream",
     "text": [
      " 39%|███▉      | 20/51 [14:23<22:23, 43.33s/it]2024-09-05 19:25:49,669 - <ipython-input-17-95d18e29c38d>::<module>(l:6) : Federated Training Epoch 20 of 51 [MainProcess : MainThread (INFO)]\n",
      "2024-09-05 19:25:52,934 - <ipython-input-17-95d18e29c38d>::<module>(l:17) : Global Test Outut after Epoch 20 of 51 {\n",
      "    \"accuracy\": 93.08999999999999,\n",
      "    \"correct\": 9309,\n",
      "    \"test_loss\": 0.012125563597679138\n",
      "} [MainProcess : MainThread (INFO)]\n",
      " 41%|████      | 21/51 [15:06<21:36, 43.21s/it]2024-09-05 19:26:32,616 - <ipython-input-17-95d18e29c38d>::<module>(l:6) : Federated Training Epoch 21 of 51 [MainProcess : MainThread (INFO)]\n",
      "2024-09-05 19:26:36,104 - <ipython-input-17-95d18e29c38d>::<module>(l:17) : Global Test Outut after Epoch 21 of 51 {\n",
      "    \"accuracy\": 93.15,\n",
      "    \"correct\": 9315,\n",
      "    \"test_loss\": 0.01211085467338562\n",
      "} [MainProcess : MainThread (INFO)]\n",
      " 43%|████▎     | 22/51 [15:49<20:53, 43.22s/it]2024-09-05 19:27:15,855 - <ipython-input-17-95d18e29c38d>::<module>(l:6) : Federated Training Epoch 22 of 51 [MainProcess : MainThread (INFO)]\n",
      "2024-09-05 19:27:19,430 - <ipython-input-17-95d18e29c38d>::<module>(l:17) : Global Test Outut after Epoch 22 of 51 {\n",
      "    \"accuracy\": 93.30000000000001,\n",
      "    \"correct\": 9330,\n",
      "    \"test_loss\": 0.012106784105300904\n",
      "} [MainProcess : MainThread (INFO)]\n",
      " 45%|████▌     | 23/51 [16:32<20:08, 43.15s/it]2024-09-05 19:27:58,830 - <ipython-input-17-95d18e29c38d>::<module>(l:6) : Federated Training Epoch 23 of 51 [MainProcess : MainThread (INFO)]\n",
      "2024-09-05 19:28:02,548 - <ipython-input-17-95d18e29c38d>::<module>(l:17) : Global Test Outut after Epoch 23 of 51 {\n",
      "    \"accuracy\": 93.42,\n",
      "    \"correct\": 9342,\n",
      "    \"test_loss\": 0.012094708740711212\n",
      "} [MainProcess : MainThread (INFO)]\n",
      " 47%|████▋     | 24/51 [17:16<19:26, 43.21s/it]2024-09-05 19:28:42,198 - <ipython-input-17-95d18e29c38d>::<module>(l:6) : Federated Training Epoch 24 of 51 [MainProcess : MainThread (INFO)]\n",
      "2024-09-05 19:28:46,039 - <ipython-input-17-95d18e29c38d>::<module>(l:17) : Global Test Outut after Epoch 24 of 51 {\n",
      "    \"accuracy\": 93.5,\n",
      "    \"correct\": 9350,\n",
      "    \"test_loss\": 0.012090430104732514\n",
      "} [MainProcess : MainThread (INFO)]\n",
      " 49%|████▉     | 25/51 [17:59<18:45, 43.30s/it]2024-09-05 19:29:25,687 - <ipython-input-17-95d18e29c38d>::<module>(l:6) : Federated Training Epoch 25 of 51 [MainProcess : MainThread (INFO)]\n",
      "2024-09-05 19:29:29,259 - <ipython-input-17-95d18e29c38d>::<module>(l:17) : Global Test Outut after Epoch 25 of 51 {\n",
      "    \"accuracy\": 93.66,\n",
      "    \"correct\": 9366,\n",
      "    \"test_loss\": 0.012076867032051087\n",
      "} [MainProcess : MainThread (INFO)]\n",
      " 51%|█████     | 26/51 [18:43<18:06, 43.45s/it]2024-09-05 19:30:09,494 - <ipython-input-17-95d18e29c38d>::<module>(l:6) : Federated Training Epoch 26 of 51 [MainProcess : MainThread (INFO)]\n",
      "2024-09-05 19:30:13,216 - <ipython-input-17-95d18e29c38d>::<module>(l:17) : Global Test Outut after Epoch 26 of 51 {\n",
      "    \"accuracy\": 93.73,\n",
      "    \"correct\": 9373,\n",
      "    \"test_loss\": 0.01206868314743042\n",
      "} [MainProcess : MainThread (INFO)]\n",
      " 53%|█████▎    | 27/51 [19:26<17:18, 43.29s/it]2024-09-05 19:30:52,411 - <ipython-input-17-95d18e29c38d>::<module>(l:6) : Federated Training Epoch 27 of 51 [MainProcess : MainThread (INFO)]\n",
      "2024-09-05 19:30:56,078 - <ipython-input-17-95d18e29c38d>::<module>(l:17) : Global Test Outut after Epoch 27 of 51 {\n",
      "    \"accuracy\": 93.87,\n",
      "    \"correct\": 9387,\n",
      "    \"test_loss\": 0.012052837109565735\n",
      "} [MainProcess : MainThread (INFO)]\n",
      " 55%|█████▍    | 28/51 [20:09<16:36, 43.34s/it]2024-09-05 19:31:35,859 - <ipython-input-17-95d18e29c38d>::<module>(l:6) : Federated Training Epoch 28 of 51 [MainProcess : MainThread (INFO)]\n",
      "2024-09-05 19:31:39,520 - <ipython-input-17-95d18e29c38d>::<module>(l:17) : Global Test Outut after Epoch 28 of 51 {\n",
      "    \"accuracy\": 93.87,\n",
      "    \"correct\": 9387,\n",
      "    \"test_loss\": 0.012050587284564972\n",
      "} [MainProcess : MainThread (INFO)]\n",
      " 57%|█████▋    | 29/51 [20:52<15:51, 43.25s/it]2024-09-05 19:32:18,899 - <ipython-input-17-95d18e29c38d>::<module>(l:6) : Federated Training Epoch 29 of 51 [MainProcess : MainThread (INFO)]\n",
      "2024-09-05 19:32:22,228 - <ipython-input-17-95d18e29c38d>::<module>(l:17) : Global Test Outut after Epoch 29 of 51 {\n",
      "    \"accuracy\": 94.02000000000001,\n",
      "    \"correct\": 9402,\n",
      "    \"test_loss\": 0.012037951362133027\n",
      "} [MainProcess : MainThread (INFO)]\n",
      " 59%|█████▉    | 30/51 [21:36<15:08, 43.27s/it]2024-09-05 19:33:02,211 - <ipython-input-17-95d18e29c38d>::<module>(l:6) : Federated Training Epoch 30 of 51 [MainProcess : MainThread (INFO)]\n",
      "2024-09-05 19:33:06,188 - <ipython-input-17-95d18e29c38d>::<module>(l:17) : Global Test Outut after Epoch 30 of 51 {\n",
      "    \"accuracy\": 94.13,\n",
      "    \"correct\": 9413,\n",
      "    \"test_loss\": 0.012043087148666382\n",
      "} [MainProcess : MainThread (INFO)]\n",
      " 61%|██████    | 31/51 [22:20<14:33, 43.65s/it]2024-09-05 19:33:46,757 - <ipython-input-17-95d18e29c38d>::<module>(l:6) : Federated Training Epoch 31 of 51 [MainProcess : MainThread (INFO)]\n",
      "2024-09-05 19:33:50,668 - <ipython-input-17-95d18e29c38d>::<module>(l:17) : Global Test Outut after Epoch 31 of 51 {\n",
      "    \"accuracy\": 94.28,\n",
      "    \"correct\": 9428,\n",
      "    \"test_loss\": 0.012029716062545777\n",
      "} [MainProcess : MainThread (INFO)]\n"
     ]
    }
   ],
   "source": [
    "import time\n",
    "start_time = time.time()\n",
    "    \n",
    "# Federated Training\n",
    "for epoch in tqdm(range(fedargs.epochs)):\n",
    "    log.info(\"Federated Training Epoch {} of {}\".format(epoch, fedargs.epochs))\n",
    "\n",
    "    # Global Model Update\n",
    "    if epoch > 0:     \n",
    "        # Average\n",
    "        if fedargs.enc:\n",
    "            global_model = he.federated_avg(client_model_updates, global_model)\n",
    "        else:\n",
    "            global_model = fl.federated_avg(client_model_updates, global_model)\n",
    "        log.modeldebug(global_model, \"Epoch {} of {} : Server Update\".format(epoch, fedargs.epochs))\n",
    "        \n",
    "        # Test, Plot and Log\n",
    "        global_test_output = fedargs.eval_func(global_model, test_loader, device)\n",
    "        wb.log({\"epoch\": epoch, \"time\": time.time(), \"acc\": global_test_output[\"accuracy\"], \"loss\": global_test_output[\"test_loss\"]})\n",
    "        log.jsoninfo(global_test_output, \"Global Test Outut after Epoch {} of {}\".format(epoch, fedargs.epochs))\n",
    "        \n",
    "        # Update client models\n",
    "        for client in clients:\n",
    "            client_details[client]['model'] = copy.deepcopy(global_model)\n",
    "\n",
    "    # Clients\n",
    "    tasks = [process(client, epoch, client_details[client]['model'],\n",
    "                     client_details[client]['train_loader'],\n",
    "                     fedargs, device) for client in clients]\n",
    "    try:\n",
    "        updates = fedargs.loop.run_until_complete(asyncio.gather(*tasks))\n",
    "    except KeyboardInterrupt as e:\n",
    "        log.error(\"Caught keyboard interrupt. Canceling tasks...\")\n",
    "        tasks.cancel()\n",
    "        fedargs.loop.run_forever()\n",
    "        tasks.exception()\n",
    "\n",
    "    for client, update in zip(clients, updates):            \n",
    "        client_details[client]['model_update'] = update\n",
    "        if fedargs.enc:\n",
    "            enc_update = he.enc_model_update(update)\n",
    "            client_details[client]['model_update'] = enc_update\n",
    "\n",
    "    client_model_updates = {client: details[\"model_update\"] for client, details in client_details.items()}\n",
    "\n",
    "print(time.time() - start_time)"
   ]
  },
  {
   "cell_type": "markdown",
   "id": "37b2d6a9",
   "metadata": {
    "deletable": false,
    "editable": false
   },
   "source": [
    "<h1> End </h1>"
   ]
  }
 ],
 "metadata": {
  "kernelspec": {
   "display_name": "Python [conda env:syft]",
   "language": "python",
   "name": "conda-env-syft-py"
  },
  "language_info": {
   "codemirror_mode": {
    "name": "ipython",
    "version": 3
   },
   "file_extension": ".py",
   "mimetype": "text/x-python",
   "name": "python",
   "nbconvert_exporter": "python",
   "pygments_lexer": "ipython3",
   "version": "3.9.5"
  }
 },
 "nbformat": 4,
 "nbformat_minor": 5
}
